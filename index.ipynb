{
 "cells": [
  {
   "cell_type": "markdown",
   "metadata": {},
   "source": [
    "# Convolutional Autoencoders - Lab\n",
    "\n",
    "## Introduction\n",
    "\n",
    "Earlier we saw the application of simple and deep fully connected auto encoders to image analysis. We ran a few very simple and limited experiments, producing output that was blurry, maintaining object shapes but lacking distinguishing features etc. Convolutional Networks can help overcome these issues as we will see in this lab. We will build a CAE for the same dataset we used earlier in order to produce improved results. \n",
    "\n",
    "*Notes: Refer back to section on Convolutional Networks for details of different layers and their specific functions*\n",
    "\n",
    "## Objectives\n",
    "\n",
    "You will be able to:\n",
    "- Build a convolutional autoencoder in Keras\n",
    "- Compare the output of convolutional vs. simple and deep autoencoders in terms of predictive performance\n"
   ]
  },
  {
   "cell_type": "markdown",
   "metadata": {},
   "source": [
    "## Building a CAE\n",
    "\n",
    "For image inputs, convolutional neural networks (convnets) as encoders and decoders are considered among the best analysis approaches. You would mostly find that autoencoders applied to images are always convolutional autoencoders as perform much better.\n",
    "\n",
    "We will build a CAE in a stack of Conv2D and MaxPooling2D layers \n",
    "- Encoder will use max pooling for spatial down-sampling)\n",
    "- The decoder will consist in a stack of Conv2D and UpSampling2D layers\n",
    "\n",
    "### Implement following Conv-autoencoder network in Keras \n",
    "\n",
    "    ```\n",
    "    Layer (type)                 Output Shape              Param #   \n",
    "    =================================================================\n",
    "    input_3 (InputLayer)         (None, 28, 28, 1)         0         \n",
    "    _________________________________________________________________\n",
    "    conv2d_15 (Conv2D)           (None, 28, 28, 16)        160       \n",
    "    _________________________________________________________________\n",
    "    max_pooling2d_7 (MaxPooling2 (None, 14, 14, 16)        0         \n",
    "    _________________________________________________________________\n",
    "    conv2d_16 (Conv2D)           (None, 14, 14, 8)         1160      \n",
    "    _________________________________________________________________\n",
    "    max_pooling2d_8 (MaxPooling2 (None, 7, 7, 8)           0         \n",
    "    _________________________________________________________________\n",
    "    conv2d_17 (Conv2D)           (None, 7, 7, 8)           584       \n",
    "    _________________________________________________________________\n",
    "    max_pooling2d_9 (MaxPooling2 (None, 4, 4, 8)           0         \n",
    "    _________________________________________________________________\n",
    "    conv2d_18 (Conv2D)           (None, 4, 4, 8)           584       \n",
    "    _________________________________________________________________\n",
    "    up_sampling2d_7 (UpSampling2 (None, 8, 8, 8)           0         \n",
    "    _________________________________________________________________\n",
    "    conv2d_19 (Conv2D)           (None, 8, 8, 8)           584       \n",
    "    _________________________________________________________________\n",
    "    up_sampling2d_8 (UpSampling2 (None, 16, 16, 8)         0         \n",
    "    _________________________________________________________________\n",
    "    conv2d_20 (Conv2D)           (None, 14, 14, 16)        1168      \n",
    "    _________________________________________________________________\n",
    "    up_sampling2d_9 (UpSampling2 (None, 28, 28, 16)        0         \n",
    "    _________________________________________________________________\n",
    "    conv2d_21 (Conv2D)           (None, 28, 28, 1)         145       \n",
    "    =================================================================\n",
    "    Total params: 4,385\n",
    "    Trainable params: 4,385\n",
    "    Non-trainable params: 0\n",
    "    ```"
   ]
  },
  {
   "cell_type": "code",
   "execution_count": 1,
   "metadata": {},
   "outputs": [
    {
     "name": "stderr",
     "output_type": "stream",
     "text": [
      "Using TensorFlow backend.\n"
     ]
    },
    {
     "name": "stdout",
     "output_type": "stream",
     "text": [
      "_________________________________________________________________\n",
      "Layer (type)                 Output Shape              Param #   \n",
      "=================================================================\n",
      "input_1 (InputLayer)         (None, 28, 28, 1)         0         \n",
      "_________________________________________________________________\n",
      "conv2d_1 (Conv2D)            (None, 28, 28, 16)        160       \n",
      "_________________________________________________________________\n",
      "max_pooling2d_1 (MaxPooling2 (None, 14, 14, 16)        0         \n",
      "_________________________________________________________________\n",
      "conv2d_2 (Conv2D)            (None, 14, 14, 8)         1160      \n",
      "_________________________________________________________________\n",
      "max_pooling2d_2 (MaxPooling2 (None, 7, 7, 8)           0         \n",
      "_________________________________________________________________\n",
      "conv2d_3 (Conv2D)            (None, 7, 7, 8)           584       \n",
      "_________________________________________________________________\n",
      "max_pooling2d_3 (MaxPooling2 (None, 4, 4, 8)           0         \n",
      "_________________________________________________________________\n",
      "conv2d_4 (Conv2D)            (None, 4, 4, 8)           584       \n",
      "_________________________________________________________________\n",
      "up_sampling2d_1 (UpSampling2 (None, 8, 8, 8)           0         \n",
      "_________________________________________________________________\n",
      "conv2d_5 (Conv2D)            (None, 8, 8, 8)           584       \n",
      "_________________________________________________________________\n",
      "up_sampling2d_2 (UpSampling2 (None, 16, 16, 8)         0         \n",
      "_________________________________________________________________\n",
      "conv2d_6 (Conv2D)            (None, 14, 14, 16)        1168      \n",
      "_________________________________________________________________\n",
      "up_sampling2d_3 (UpSampling2 (None, 28, 28, 16)        0         \n",
      "_________________________________________________________________\n",
      "conv2d_7 (Conv2D)            (None, 28, 28, 1)         145       \n",
      "=================================================================\n",
      "Total params: 4,385\n",
      "Trainable params: 4,385\n",
      "Non-trainable params: 0\n",
      "_________________________________________________________________\n"
     ]
    }
   ],
   "source": [
    "# From solutions\n",
    "\n",
    "from keras.layers import Input, Dense, Conv2D, MaxPooling2D, UpSampling2D\n",
    "from keras.models import Model\n",
    "from keras import backend as K\n",
    "\n",
    "input_img = Input(shape=(28, 28, 1))\n",
    "\n",
    "x = Conv2D(16, (3, 3), activation='relu', padding='same')(input_img)\n",
    "x = MaxPooling2D((2, 2), padding='same')(x)\n",
    "x = Conv2D(8, (3, 3), activation='relu', padding='same')(x)\n",
    "x = MaxPooling2D((2, 2), padding='same')(x)\n",
    "x = Conv2D(8, (3, 3), activation='relu', padding='same')(x)\n",
    "encoded = MaxPooling2D((2, 2), padding='same')(x)\n",
    "\n",
    "# at this point the representation is (4, 4, 8) i.e. 128-dimensional\n",
    "\n",
    "x = Conv2D(8, (3, 3), activation='relu', padding='same')(encoded)\n",
    "x = UpSampling2D((2, 2))(x)\n",
    "x = Conv2D(8, (3, 3), activation='relu', padding='same')(x)\n",
    "x = UpSampling2D((2, 2))(x)\n",
    "x = Conv2D(16, (3, 3), activation='relu')(x)\n",
    "x = UpSampling2D((2, 2))(x)\n",
    "decoded = Conv2D(1, (3, 3), activation='sigmoid', padding='same')(x)\n",
    "\n",
    "CAE = Model(input_img, decoded)\n",
    "CAE.compile(optimizer='adadelta', loss='binary_crossentropy')\n",
    "CAE.summary()"
   ]
  },
  {
   "cell_type": "markdown",
   "metadata": {},
   "source": [
    "## Load the dataset\n",
    "\n",
    "As in previous examples, we will stick with fashion-MNIST or MNIST datasets for convenience. Building a deep neural network with high definition-colored images would require a much higher computational cost with convolutional networks. We will use fashion MNIST digits with shape (samples, 3, 28, 28), and we will just normalize pixel values between 0 and 1. We will reshape the images as channel encoding i.e. (28 x 28 x 1) instead of using a vector in previous lessons. We are now presented an image as discrete 2D object. \n",
    "\n",
    "#### Load fashion-MNIST dataset as train and test sets. Scale the features and Reshape features using \"Channel encoding\".  "
   ]
  },
  {
   "cell_type": "code",
   "execution_count": 2,
   "metadata": {},
   "outputs": [],
   "source": [
    "from keras.datasets import fashion_mnist\n",
    "import numpy as np\n",
    "\n",
    "(x_train, _), (x_test, _) = fashion_mnist.load_data()\n",
    "\n",
    "# Normalize the values\n",
    "x_train = x_train.astype('float32') / 255.\n",
    "x_test = x_test.astype('float32') / 255.\n",
    "\n",
    "# adapt this if using `channels_first` image data format\n",
    "    \n",
    "x_train = np.reshape(x_train, (len(x_train), 28, 28, 1)) \n",
    "x_test = np.reshape(x_test, (len(x_test), 28, 28, 1)) "
   ]
  },
  {
   "cell_type": "markdown",
   "metadata": {},
   "source": [
    "## Train the CAE\n",
    "\n",
    "We will now train our network just like we did with simple auto encoder. \n",
    "\n",
    "#### Use batch size = 128, epochs = 20, shuffle = True and using x_test for validation\n",
    "\n",
    "*Note: this is a computationally expensive task due to the deep nature of our network. On a 2017 Macbook pro, the training will take about 20 min i.e. roughly 1 epoch/minute. For good results, you are required to train this , and previous networks to around 40 - 60 epochs.*"
   ]
  },
  {
   "cell_type": "code",
   "execution_count": 3,
   "metadata": {},
   "outputs": [
    {
     "name": "stdout",
     "output_type": "stream",
     "text": [
      "Train on 60000 samples, validate on 10000 samples\n",
      "Epoch 1/20\n",
      "60000/60000 [==============================] - 102s 2ms/step - loss: 0.3745 - val_loss: 0.3347\n",
      "Epoch 2/20\n",
      "60000/60000 [==============================] - 100s 2ms/step - loss: 0.3258 - val_loss: 0.3202\n",
      "Epoch 3/20\n",
      "60000/60000 [==============================] - 90s 2ms/step - loss: 0.3141 - val_loss: 0.3116\n",
      "Epoch 4/20\n",
      "60000/60000 [==============================] - 94s 2ms/step - loss: 0.3083 - val_loss: 0.3047\n",
      "Epoch 5/20\n",
      "60000/60000 [==============================] - 92s 2ms/step - loss: 0.3049 - val_loss: 0.3043\n",
      "Epoch 6/20\n",
      "60000/60000 [==============================] - 92s 2ms/step - loss: 0.3021 - val_loss: 0.3060\n",
      "Epoch 7/20\n",
      "60000/60000 [==============================] - 92s 2ms/step - loss: 0.3007 - val_loss: 0.2986\n",
      "Epoch 8/20\n",
      "60000/60000 [==============================] - 91s 2ms/step - loss: 0.2992 - val_loss: 0.2991\n",
      "Epoch 9/20\n",
      "60000/60000 [==============================] - 92s 2ms/step - loss: 0.2979 - val_loss: 0.3000\n",
      "Epoch 10/20\n",
      "60000/60000 [==============================] - 94s 2ms/step - loss: 0.2968 - val_loss: 0.2975\n",
      "Epoch 11/20\n",
      "60000/60000 [==============================] - 101s 2ms/step - loss: 0.2961 - val_loss: 0.2998\n",
      "Epoch 12/20\n",
      "60000/60000 [==============================] - 95s 2ms/step - loss: 0.2952 - val_loss: 0.2975\n",
      "Epoch 13/20\n",
      "60000/60000 [==============================] - 93s 2ms/step - loss: 0.2942 - val_loss: 0.2977\n",
      "Epoch 14/20\n",
      "60000/60000 [==============================] - 92s 2ms/step - loss: 0.2933 - val_loss: 0.2961\n",
      "Epoch 15/20\n",
      "60000/60000 [==============================] - 94s 2ms/step - loss: 0.2932 - val_loss: 0.2932\n",
      "Epoch 16/20\n",
      "60000/60000 [==============================] - 94s 2ms/step - loss: 0.2926 - val_loss: 0.2942\n",
      "Epoch 17/20\n",
      "60000/60000 [==============================] - 94s 2ms/step - loss: 0.2921 - val_loss: 0.2915\n",
      "Epoch 18/20\n",
      "60000/60000 [==============================] - 97s 2ms/step - loss: 0.2912 - val_loss: 0.2933\n",
      "Epoch 19/20\n",
      "60000/60000 [==============================] - 96s 2ms/step - loss: 0.2912 - val_loss: 0.2940\n",
      "Epoch 20/20\n",
      "60000/60000 [==============================] - 96s 2ms/step - loss: 0.2909 - val_loss: 0.2921\n",
      "Time elapsed: 0:31:29.530084\n"
     ]
    }
   ],
   "source": [
    "import datetime\n",
    "start = datetime.datetime.now()\n",
    "\n",
    "CAE.fit(x_train, x_train,\n",
    "                epochs=20,\n",
    "                batch_size=128,\n",
    "                shuffle=True,\n",
    "                validation_data=(x_test, x_test))\n",
    "\n",
    "finish = datetime.datetime.now()\n",
    "elapsed = finish - start \n",
    "print(\"Time elapsed:\", elapsed)"
   ]
  },
  {
   "cell_type": "markdown",
   "metadata": {},
   "source": [
    "## Plot the original Images and their reconstructions\n",
    "\n",
    "Select and view first 10 images from the x_test and reconstructed images to check the quality of reconstruction. "
   ]
  },
  {
   "cell_type": "code",
   "execution_count": 5,
   "metadata": {},
   "outputs": [
    {
     "data": {
      "image/png": "[encoded data removed]",
      "text/plain": [
       "<Figure size 1440x288 with 20 Axes>"
      ]
     },
     "metadata": {
      "needs_background": "light"
     },
     "output_type": "display_data"
    }
   ],
   "source": [
    "import matplotlib.pyplot as plt\n",
    "decoded_imgs = CAE.predict(x_test)\n",
    "\n",
    "n = 10\n",
    "plt.figure(figsize=(20, 4))\n",
    "for i in range(1, n+1):\n",
    "    # display original\n",
    "    ax = plt.subplot(2, n, i)\n",
    "    plt.imshow(x_test[i].reshape(28, 28))\n",
    "    plt.gray()\n",
    "    ax.get_xaxis().set_visible(False)\n",
    "    ax.get_yaxis().set_visible(False)\n",
    "\n",
    "    # display reconstruction\n",
    "    ax = plt.subplot(2, n, i + n)\n",
    "    plt.imshow(decoded_imgs[i].reshape(28, 28))\n",
    "    plt.gray()\n",
    "    ax.get_xaxis().set_visible(False)\n",
    "    ax.get_yaxis().set_visible(False)\n",
    "plt.show()"
   ]
  },
  {
   "cell_type": "markdown",
   "metadata": {},
   "source": [
    "We see very poor results with 20 epochs of training here. Clearly the images and reconstruction are not comparable at this stage. Increase the epochs to around 50 to see improved results. \n"
   ]
  },
  {
   "cell_type": "markdown",
   "metadata": {},
   "source": [
    "## Level up - Optional\n",
    "\n",
    "### Application to image denoising\n",
    "\n",
    "We can use our convolutional autoencoder to work on an image denoising problem, similar to one seen earlier. Train the convolutional autoencoder to map noisy digits images to clean digits images. compare the quality of cleaned images (decoded) to those by simple /deep fully connected autoencoders."
   ]
  },
  {
   "cell_type": "markdown",
   "metadata": {},
   "source": [
    "## Additional Resources\n",
    "\n",
    "- [Basics of Image Processing](https://www.codementor.io/isaib.cicourel/image-manipulation-in-python-du1089j1u)\n",
    "- [Implementing PCA, Feedforward and Convolutional Autoencoders and using it for Image Reconstruction, Retrieval & Compression](https://blog.manash.me/implementing-pca-feedforward-and-convolutional-autoencoders-and-using-it-for-image-reconstruction-8ee44198ea55)"
   ]
  },
  {
   "cell_type": "markdown",
   "metadata": {},
   "source": [
    "## Summary \n",
    "\n",
    "In this lesson , we looked at a deep convolutional autoencoder to achieve data compression and noise reduction , compared to how these tasks were performed in simple autoencoders. We saw image processing incurred a huge processing cost to our experiment, but with enough epochs and training examples, the output produced by CAEs looks much better than those by simple AEs. "
   ]
  }
 ],
 "metadata": {
  "kernelspec": {
   "display_name": "learn-env",
   "language": "python",
   "name": "learn-env"
  },
  "language_info": {
   "codemirror_mode": {
    "name": "ipython",
    "version": 3
   },
   "file_extension": ".py",
   "mimetype": "text/x-python",
   "name": "python",
   "nbconvert_exporter": "python",
   "pygments_lexer": "ipython3",
   "version": "3.6.6"
  }
 },
 "nbformat": 4,
 "nbformat_minor": 2
}
